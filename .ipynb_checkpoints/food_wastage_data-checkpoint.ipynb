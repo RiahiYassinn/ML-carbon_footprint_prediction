{
 "cells": [
  {
   "cell_type": "code",
   "execution_count": 7,
   "id": "eba008e0-bf1f-4d39-9461-8b8f4fe6689d",
   "metadata": {},
   "outputs": [
    {
     "data": {
      "text/html": [
       "<div>\n",
       "<style scoped>\n",
       "    .dataframe tbody tr th:only-of-type {\n",
       "        vertical-align: middle;\n",
       "    }\n",
       "\n",
       "    .dataframe tbody tr th {\n",
       "        vertical-align: top;\n",
       "    }\n",
       "\n",
       "    .dataframe thead th {\n",
       "        text-align: right;\n",
       "    }\n",
       "</style>\n",
       "<table border=\"1\" class=\"dataframe\">\n",
       "  <thead>\n",
       "    <tr style=\"text-align: right;\">\n",
       "      <th></th>\n",
       "      <th>Type of Food</th>\n",
       "      <th>Number of Guests</th>\n",
       "      <th>Event Type</th>\n",
       "      <th>Quantity of Food</th>\n",
       "      <th>Storage Conditions</th>\n",
       "      <th>Purchase History</th>\n",
       "      <th>Seasonality</th>\n",
       "      <th>Preparation Method</th>\n",
       "      <th>Geographical Location</th>\n",
       "      <th>Pricing</th>\n",
       "      <th>Wastage Food Amount</th>\n",
       "    </tr>\n",
       "  </thead>\n",
       "  <tbody>\n",
       "    <tr>\n",
       "      <th>0</th>\n",
       "      <td>Meat</td>\n",
       "      <td>310</td>\n",
       "      <td>Corporate</td>\n",
       "      <td>450</td>\n",
       "      <td>Refrigerated</td>\n",
       "      <td>Regular</td>\n",
       "      <td>All Seasons</td>\n",
       "      <td>Buffet</td>\n",
       "      <td>Urban</td>\n",
       "      <td>Low</td>\n",
       "      <td>25</td>\n",
       "    </tr>\n",
       "    <tr>\n",
       "      <th>1</th>\n",
       "      <td>Meat</td>\n",
       "      <td>400</td>\n",
       "      <td>Birthday</td>\n",
       "      <td>500</td>\n",
       "      <td>Room Temperature</td>\n",
       "      <td>Regular</td>\n",
       "      <td>Winter</td>\n",
       "      <td>Buffet</td>\n",
       "      <td>Suburban</td>\n",
       "      <td>High</td>\n",
       "      <td>40</td>\n",
       "    </tr>\n",
       "    <tr>\n",
       "      <th>2</th>\n",
       "      <td>Vegetables</td>\n",
       "      <td>302</td>\n",
       "      <td>Birthday</td>\n",
       "      <td>371</td>\n",
       "      <td>Refrigerated</td>\n",
       "      <td>Regular</td>\n",
       "      <td>Summer</td>\n",
       "      <td>Buffet</td>\n",
       "      <td>Suburban</td>\n",
       "      <td>Low</td>\n",
       "      <td>27</td>\n",
       "    </tr>\n",
       "    <tr>\n",
       "      <th>3</th>\n",
       "      <td>Meat</td>\n",
       "      <td>491</td>\n",
       "      <td>Birthday</td>\n",
       "      <td>497</td>\n",
       "      <td>Refrigerated</td>\n",
       "      <td>Regular</td>\n",
       "      <td>All Seasons</td>\n",
       "      <td>Finger Food</td>\n",
       "      <td>Rural</td>\n",
       "      <td>High</td>\n",
       "      <td>32</td>\n",
       "    </tr>\n",
       "    <tr>\n",
       "      <th>4</th>\n",
       "      <td>Meat</td>\n",
       "      <td>300</td>\n",
       "      <td>Corporate</td>\n",
       "      <td>400</td>\n",
       "      <td>Refrigerated</td>\n",
       "      <td>Regular</td>\n",
       "      <td>Winter</td>\n",
       "      <td>Finger Food</td>\n",
       "      <td>Urban</td>\n",
       "      <td>Moderate</td>\n",
       "      <td>25</td>\n",
       "    </tr>\n",
       "    <tr>\n",
       "      <th>...</th>\n",
       "      <td>...</td>\n",
       "      <td>...</td>\n",
       "      <td>...</td>\n",
       "      <td>...</td>\n",
       "      <td>...</td>\n",
       "      <td>...</td>\n",
       "      <td>...</td>\n",
       "      <td>...</td>\n",
       "      <td>...</td>\n",
       "      <td>...</td>\n",
       "      <td>...</td>\n",
       "    </tr>\n",
       "    <tr>\n",
       "      <th>1777</th>\n",
       "      <td>Baked Goods</td>\n",
       "      <td>310</td>\n",
       "      <td>Corporate</td>\n",
       "      <td>350</td>\n",
       "      <td>Room Temperature</td>\n",
       "      <td>Regular</td>\n",
       "      <td>Summer</td>\n",
       "      <td>Finger Food</td>\n",
       "      <td>Urban</td>\n",
       "      <td>High</td>\n",
       "      <td>35</td>\n",
       "    </tr>\n",
       "    <tr>\n",
       "      <th>1778</th>\n",
       "      <td>Baked Goods</td>\n",
       "      <td>284</td>\n",
       "      <td>Social Gathering</td>\n",
       "      <td>443</td>\n",
       "      <td>Room Temperature</td>\n",
       "      <td>Regular</td>\n",
       "      <td>Winter</td>\n",
       "      <td>Buffet</td>\n",
       "      <td>Rural</td>\n",
       "      <td>Low</td>\n",
       "      <td>32</td>\n",
       "    </tr>\n",
       "    <tr>\n",
       "      <th>1779</th>\n",
       "      <td>Fruits</td>\n",
       "      <td>220</td>\n",
       "      <td>Wedding</td>\n",
       "      <td>300</td>\n",
       "      <td>Room Temperature</td>\n",
       "      <td>Regular</td>\n",
       "      <td>All Seasons</td>\n",
       "      <td>Finger Food</td>\n",
       "      <td>Urban</td>\n",
       "      <td>Moderate</td>\n",
       "      <td>15</td>\n",
       "    </tr>\n",
       "    <tr>\n",
       "      <th>1780</th>\n",
       "      <td>Fruits</td>\n",
       "      <td>250</td>\n",
       "      <td>Wedding</td>\n",
       "      <td>350</td>\n",
       "      <td>Room Temperature</td>\n",
       "      <td>Regular</td>\n",
       "      <td>All Seasons</td>\n",
       "      <td>Finger Food</td>\n",
       "      <td>Rural</td>\n",
       "      <td>Moderate</td>\n",
       "      <td>20</td>\n",
       "    </tr>\n",
       "    <tr>\n",
       "      <th>1781</th>\n",
       "      <td>Baked Goods</td>\n",
       "      <td>400</td>\n",
       "      <td>Wedding</td>\n",
       "      <td>500</td>\n",
       "      <td>Room Temperature</td>\n",
       "      <td>Regular</td>\n",
       "      <td>Winter</td>\n",
       "      <td>Sit-down Dinner</td>\n",
       "      <td>Rural</td>\n",
       "      <td>High</td>\n",
       "      <td>45</td>\n",
       "    </tr>\n",
       "  </tbody>\n",
       "</table>\n",
       "<p>1782 rows × 11 columns</p>\n",
       "</div>"
      ],
      "text/plain": [
       "     Type of Food  Number of Guests        Event Type  Quantity of Food  \\\n",
       "0            Meat               310         Corporate               450   \n",
       "1            Meat               400          Birthday               500   \n",
       "2      Vegetables               302          Birthday               371   \n",
       "3            Meat               491          Birthday               497   \n",
       "4            Meat               300         Corporate               400   \n",
       "...           ...               ...               ...               ...   \n",
       "1777  Baked Goods               310         Corporate               350   \n",
       "1778  Baked Goods               284  Social Gathering               443   \n",
       "1779       Fruits               220           Wedding               300   \n",
       "1780       Fruits               250           Wedding               350   \n",
       "1781  Baked Goods               400           Wedding               500   \n",
       "\n",
       "     Storage Conditions Purchase History  Seasonality Preparation Method  \\\n",
       "0          Refrigerated          Regular  All Seasons             Buffet   \n",
       "1      Room Temperature          Regular       Winter             Buffet   \n",
       "2          Refrigerated          Regular       Summer             Buffet   \n",
       "3          Refrigerated          Regular  All Seasons        Finger Food   \n",
       "4          Refrigerated          Regular       Winter        Finger Food   \n",
       "...                 ...              ...          ...                ...   \n",
       "1777   Room Temperature          Regular       Summer        Finger Food   \n",
       "1778   Room Temperature          Regular       Winter             Buffet   \n",
       "1779   Room Temperature          Regular  All Seasons        Finger Food   \n",
       "1780   Room Temperature          Regular  All Seasons        Finger Food   \n",
       "1781   Room Temperature          Regular       Winter    Sit-down Dinner   \n",
       "\n",
       "     Geographical Location   Pricing  Wastage Food Amount  \n",
       "0                    Urban       Low                   25  \n",
       "1                 Suburban      High                   40  \n",
       "2                 Suburban       Low                   27  \n",
       "3                    Rural      High                   32  \n",
       "4                    Urban  Moderate                   25  \n",
       "...                    ...       ...                  ...  \n",
       "1777                 Urban      High                   35  \n",
       "1778                 Rural       Low                   32  \n",
       "1779                 Urban  Moderate                   15  \n",
       "1780                 Rural  Moderate                   20  \n",
       "1781                 Rural      High                   45  \n",
       "\n",
       "[1782 rows x 11 columns]"
      ]
     },
     "execution_count": 7,
     "metadata": {},
     "output_type": "execute_result"
    }
   ],
   "source": [
    "import numpy as np\n",
    "import matplotlib.pyplot as plt\n",
    "import seaborn as sns\n",
    "from matplotlib.pylab import rcParams\n",
    "import pandas as pd\n",
    "file_path = 'food_wastage_data.csv'\n",
    "dataset = pd.read_csv(file_path)\n",
    "dataset"
   ]
  },
  {
   "cell_type": "code",
   "execution_count": 15,
   "id": "c76cf121-cd71-43a0-91dc-d53da64e587e",
   "metadata": {},
   "outputs": [
    {
     "data": {
      "text/plain": [
       "<Axes: xlabel='Wastage Food Amount', ylabel='count'>"
      ]
     },
     "execution_count": 15,
     "metadata": {},
     "output_type": "execute_result"
    },
    {
     "data": {
      "image/png": "[encoded data removed]",
      "text/plain": [
       "<Figure size 1000x800 with 1 Axes>"
      ]
     },
     "metadata": {},
     "output_type": "display_data"
    }
   ],
   "source": [
    "sns.countplot(data=dataset,x=\"Wastage Food Amount\")"
   ]
  },
  {
   "cell_type": "code",
   "execution_count": 17,
   "id": "24b909df-eaa4-4960-8d96-86a83f78cf7a",
   "metadata": {},
   "outputs": [
    {
     "data": {
      "text/plain": [
       "<Axes: xlabel='Wastage Food Amount', ylabel='count'>"
      ]
     },
     "execution_count": 17,
     "metadata": {},
     "output_type": "execute_result"
    },
    {
     "data": {
      "image/png": "[encoded data removed]",
      "text/plain": [
       "<Figure size 1000x800 with 1 Axes>"
      ]
     },
     "metadata": {},
     "output_type": "display_data"
    }
   ],
   "source": [
    "sns.countplot(data=dataset,x=\"Wastage Food Amount\",hue=\"Type of Food\")"
   ]
  },
  {
   "cell_type": "code",
   "execution_count": 25,
   "id": "e96235fc-100a-44b2-b4ed-1213752ac261",
   "metadata": {},
   "outputs": [
    {
     "name": "stdout",
     "output_type": "stream",
     "text": [
      "<class 'pandas.core.frame.DataFrame'>\n",
      "RangeIndex: 1782 entries, 0 to 1781\n",
      "Data columns (total 11 columns):\n",
      " #   Column                 Non-Null Count  Dtype \n",
      "---  ------                 --------------  ----- \n",
      " 0   Type of Food           1782 non-null   object\n",
      " 1   Number of Guests       1782 non-null   int64 \n",
      " 2   Event Type             1782 non-null   object\n",
      " 3   Quantity of Food       1782 non-null   int64 \n",
      " 4   Storage Conditions     1782 non-null   object\n",
      " 5   Purchase History       1782 non-null   object\n",
      " 6   Seasonality            1782 non-null   object\n",
      " 7   Preparation Method     1782 non-null   object\n",
      " 8   Geographical Location  1782 non-null   object\n",
      " 9   Pricing                1782 non-null   object\n",
      " 10  Wastage Food Amount    1782 non-null   int64 \n",
      "dtypes: int64(3), object(8)\n",
      "memory usage: 153.3+ KB\n"
     ]
    },
    {
     "data": {
      "text/plain": [
       "Type of Food             0\n",
       "Number of Guests         0\n",
       "Event Type               0\n",
       "Quantity of Food         0\n",
       "Storage Conditions       0\n",
       "Purchase History         0\n",
       "Seasonality              0\n",
       "Preparation Method       0\n",
       "Geographical Location    0\n",
       "Pricing                  0\n",
       "Wastage Food Amount      0\n",
       "dtype: int64"
      ]
     },
     "execution_count": 25,
     "metadata": {},
     "output_type": "execute_result"
    }
   ],
   "source": [
    "dataset.info()"
   ]
  },
  {
   "cell_type": "code",
   "execution_count": null,
   "id": "c25d6720-5c64-4d99-a1e3-d2a23c165901",
   "metadata": {},
   "outputs": [],
   "source": [
    "dataset_1 = dataset.dropna()\n",
    "dataset_1.info()"
   ]
  }
 ],
 "metadata": {
  "kernelspec": {
   "display_name": "Python [conda env:base] *",
   "language": "python",
   "name": "conda-base-py"
  },
  "language_info": {
   "codemirror_mode": {
    "name": "ipython",
    "version": 3
   },
   "file_extension": ".py",
   "mimetype": "text/x-python",
   "name": "python",
   "nbconvert_exporter": "python",
   "pygments_lexer": "ipython3",
   "version": "3.12.7"
  }
 },
 "nbformat": 4,
 "nbformat_minor": 5
}
